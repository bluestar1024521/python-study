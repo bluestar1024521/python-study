{
  "nbformat": 4,
  "nbformat_minor": 0,
  "metadata": {
    "colab": {
      "provenance": [],
      "toc_visible": true,
      "authorship_tag": "ABX9TyO7C4nvYXpHZHSKfNtBGGGv",
      "include_colab_link": true
    },
    "kernelspec": {
      "name": "python3",
      "display_name": "Python 3"
    },
    "language_info": {
      "name": "python"
    }
  },
  "cells": [
    {
      "cell_type": "markdown",
      "metadata": {
        "id": "view-in-github",
        "colab_type": "text"
      },
      "source": [
        "<a href=\"https://colab.research.google.com/github/bluestar1024521/python-study/blob/main/Untitled0.ipynb\" target=\"_parent\"><img src=\"https://colab.research.google.com/assets/colab-badge.svg\" alt=\"Open In Colab\"/></a>"
      ]
    },
    {
      "cell_type": "code",
      "execution_count": null,
      "metadata": {
        "id": "nd_MIWX4Wphn",
        "colab": {
          "base_uri": "https://localhost:8080/"
        },
        "outputId": "f2528e32-924b-4c9d-e401-10fbb2eba882"
      },
      "outputs": [
        {
          "output_type": "execute_result",
          "data": {
            "text/plain": [
              "1"
            ]
          },
          "metadata": {},
          "execution_count": 3
        }
      ],
      "source": [
        "\n",
        "10/3\n",
        "10%3"
      ]
    },
    {
      "cell_type": "markdown",
      "source": [
        "# **几种常见类型**\n",
        "* int\n",
        "* float\n",
        "* bool\n",
        "* str"
      ],
      "metadata": {
        "id": "CX00ki472XJ8"
      }
    },
    {
      "cell_type": "code",
      "source": [
        "yang = 4\n",
        "#type 打印类型\n",
        "type(yang)\n",
        "\n",
        "yang = 1.01\n",
        "type(yang)\n",
        "\n",
        "#bool类型\n",
        "yang4 = True\n",
        "type(yang4)\n",
        "#通过数学表达式\n",
        "3>5"
      ],
      "metadata": {
        "colab": {
          "base_uri": "https://localhost:8080/"
        },
        "id": "EiKAuIIRtdl3",
        "outputId": "b4f126a1-7d23-46b4-aaa0-7a4756b65bc4"
      },
      "execution_count": null,
      "outputs": [
        {
          "output_type": "execute_result",
          "data": {
            "text/plain": [
              "float"
            ]
          },
          "metadata": {},
          "execution_count": 3
        }
      ]
    },
    {
      "cell_type": "code",
      "source": [
        "#类型转换\n",
        "#int\n",
        "yang2 = int(yang)\n",
        "type(yang2)\n",
        "#float\n",
        "yang3 = float(yang2)\n",
        "type(yang3)\n",
        "yang3\n",
        "\n",
        "\n",
        "\n",
        "#把字符串转换成数值的条件是，字符串本身是数值形式的，如果是字母或汉字就无法转换\n",
        "#可以把数值的字符串类型转换成int或float类型\n",
        "tang_str = '123'\n",
        "type(tang_str)\n",
        "\n",
        "float(tang_str)\n",
        "\n",
        "#下面代码将会报错\n",
        "# yang_str = 'yangli'\n",
        "# float(yang_str)\n",
        "\n",
        "#将数值转换成字符串\n",
        "str(123)\n",
        "\n",
        "\n"
      ],
      "metadata": {
        "colab": {
          "base_uri": "https://localhost:8080/"
        },
        "id": "0EOwNyHntabg",
        "outputId": "5b75bcc4-f601-40fe-e7eb-49c2ee5fb93e"
      },
      "execution_count": null,
      "outputs": [
        {
          "output_type": "execute_result",
          "data": {
            "text/plain": [
              "False"
            ]
          },
          "metadata": {},
          "execution_count": 19
        }
      ]
    },
    {
      "cell_type": "markdown",
      "source": [
        "# python运算优先级\n",
        "⚓:（）> [**] > */ > +-"
      ],
      "metadata": {
        "id": "l2OReS0QyS6O"
      }
    },
    {
      "cell_type": "markdown",
      "source": [
        "# ***数值基本操作***"
      ],
      "metadata": {
        "id": "Jq6F9NjRz4xB"
      }
    },
    {
      "cell_type": "markdown",
      "source": [
        "# ***字符串操作***"
      ],
      "metadata": {
        "id": "-z21cI-SibVX"
      }
    },
    {
      "cell_type": "code",
      "source": [
        "str = \"hello python\"\n",
        "str_str = str *3\n",
        "str_str\n",
        "\n",
        "#len 内置函数 返回对象的长度，可作用于多种内置数据类型（如字符串、列表、元组、字典、集合等）以及部分第三方类型（如 NumPy数组、pandas 的 DataFrame）。\n",
        "#len（）函数大多情况下以O（1）时间复杂度运行，它通过访问对象的长度属性获取结果\n",
        "#像整数、浮点数、布尔值、复数等数据类型不能作为len()的参数，使用不适用的数据类型做参数会引发TypeError，同时迭代器和生成器也不能直接用于len()\n",
        "len(str)"
      ],
      "metadata": {
        "colab": {
          "base_uri": "https://localhost:8080/"
        },
        "id": "glAm5VBgitjH",
        "outputId": "b8a2d78d-5d26-41a3-b33a-dd10e8769e65"
      },
      "execution_count": null,
      "outputs": [
        {
          "output_type": "execute_result",
          "data": {
            "text/plain": [
              "11"
            ]
          },
          "metadata": {},
          "execution_count": 6
        }
      ]
    },
    {
      "cell_type": "code",
      "source": [
        "str = '1,2,3,4,5'\n",
        "#字符串切分\n",
        "str_split = str.split(\",\")\n",
        "str_split\n",
        "\n",
        "#字符串拼接\n",
        "str_join = ';'\n",
        "str_join.join(str_split)\n",
        "\n",
        "#字符串替换操作\n",
        "str = \"hello python\"\n",
        "str_replace = str.replace(\"python\",\"world\")\n",
        "str_replace\n",
        "\n",
        "#转换大小写\n",
        "str = \"hello world\"\n",
        "str.upper()\n",
        "\n",
        "str = \"HELLO WORLD\"\n",
        "str.lower()\n",
        "\n",
        "\n",
        "#字符串去空格\n",
        "str = '          hello world        '\n",
        "str.strip()\n",
        "str.lstrip()\n",
        "str.rstrip()\n",
        "\n",
        "#字符串格式化\n",
        "'{} {} {}'.format('我',\"爱\", \"你\")\n",
        "'{2} {1} {0}'.format('我',\"爱\", \"你\")\n",
        "'{a} {b} {c}'.format(a =10,b=5,c =1)\n"
      ],
      "metadata": {
        "colab": {
          "base_uri": "https://localhost:8080/",
          "height": 35
        },
        "id": "PukW7HY4oein",
        "outputId": "df74d184-c7b4-4f01-f390-970df04d01d2"
      },
      "execution_count": null,
      "outputs": [
        {
          "output_type": "execute_result",
          "data": {
            "text/plain": [
              "'10 5 1'"
            ],
            "application/vnd.google.colaboratory.intrinsic+json": {
              "type": "string"
            }
          },
          "metadata": {},
          "execution_count": 48
        }
      ]
    },
    {
      "cell_type": "markdown",
      "source": [
        "## ***索引***"
      ],
      "metadata": {
        "id": "npWDRcw-sA_z"
      }
    },
    {
      "cell_type": "code",
      "source": [
        "#从0开始\n",
        "#从后面-1开始\n",
        "#索引不能越界\n",
        "\n",
        "str=\"I love you\"\n",
        "str[0]\n",
        "str[-1]\n",
        "#切片\n",
        "#：表示从那到那，左闭右开区间\n",
        "str[:6]"
      ],
      "metadata": {
        "colab": {
          "base_uri": "https://localhost:8080/",
          "height": 35
        },
        "id": "Ro0L8QOOsTER",
        "outputId": "9ab9cb73-7a6c-48f3-bf77-a1b6b3e2e396"
      },
      "execution_count": null,
      "outputs": [
        {
          "output_type": "execute_result",
          "data": {
            "text/plain": [
              "'I love'"
            ],
            "application/vnd.google.colaboratory.intrinsic+json": {
              "type": "string"
            }
          },
          "metadata": {},
          "execution_count": 8
        }
      ]
    },
    {
      "cell_type": "code",
      "source": [],
      "metadata": {
        "id": "uYMpMg5sEHj2"
      },
      "execution_count": null,
      "outputs": []
    },
    {
      "cell_type": "markdown",
      "source": [
        "#***❗ List结构***"
      ],
      "metadata": {
        "id": "lDNUADqHFSe-"
      }
    },
    {
      "cell_type": "markdown",
      "source": [
        "* 通过[]创建list结构\n",
        "* 可以存放任何类型的数据，没有长度限制"
      ],
      "metadata": {
        "id": "QTsPsHlmLqY-"
      }
    },
    {
      "cell_type": "code",
      "source": [
        "ls =  [1,2,3]\n",
        "type(ls)\n",
        "\n",
        "  # list1 = list()\n"
      ],
      "metadata": {
        "id": "1hG1zr4ZLQq2",
        "outputId": "b336277d-ab00-467a-d5b4-00ea87705409",
        "colab": {
          "base_uri": "https://localhost:8080/"
        }
      },
      "execution_count": null,
      "outputs": [
        {
          "output_type": "execute_result",
          "data": {
            "text/plain": [
              "list"
            ]
          },
          "metadata": {},
          "execution_count": 2
        }
      ]
    },
    {
      "cell_type": "markdown",
      "source": [
        "# ***list操作***"
      ],
      "metadata": {
        "id": "643DloFqNnIu"
      }
    },
    {
      "cell_type": "code",
      "source": [
        "len(ls)\n",
        "\n",
        "a = [123, 456]\n",
        "b = ['ni', 'hao']\n",
        "a+b\n",
        "#[123, 456, 'ni', 'hao']\n",
        "a*3\n",
        "# [123, 456, 123, 456, 123, 456]\n",
        "\n",
        "\n",
        "a = [0,1,1,1,2,3,[5,6,7]]\n",
        "a[4]\n",
        "# 返回地一个匹配的索引，不存在时抛出异常\n",
        "a.index(1)\n",
        "a.index(1, 2)\n",
        "\n",
        "#解决抛出异常问题\n",
        "try:\n",
        "  index = a.index(1)\n",
        "  print(f\"值为{6}的索引是：{index}\")\n",
        "except ValueError:\n",
        "  print(\"\\033[33m\"+f\"值 {6} 不在列表中\"+\"\\033[0m\")\n",
        "# 查找所有匹配索引\n",
        "[i for i, x in enumerate(a)]\n",
        "\n",
        "a.count(1)\n",
        "\n",
        "\n"
      ],
      "metadata": {
        "colab": {
          "base_uri": "https://localhost:8080/"
        },
        "id": "1XdtNOZRNee-",
        "outputId": "b953862d-a25b-41dd-8ee4-1795a9d0d1b7"
      },
      "execution_count": null,
      "outputs": [
        {
          "output_type": "stream",
          "name": "stdout",
          "text": [
            "值为6的索引是：1\n"
          ]
        },
        {
          "output_type": "execute_result",
          "data": {
            "text/plain": [
              "3"
            ]
          },
          "metadata": {},
          "execution_count": 47
        }
      ]
    },
    {
      "cell_type": "markdown",
      "source": [
        "❓打印重复元素的所有索引，而不是一个"
      ],
      "metadata": {
        "id": "-821QpmFtLkP"
      }
    },
    {
      "cell_type": "markdown",
      "source": [
        " **⏰** 列表添加，删除，排序操作"
      ],
      "metadata": {
        "id": "06BsJAdm2FzB"
      }
    },
    {
      "cell_type": "code",
      "source": [
        "ls = []\n",
        "\n",
        "#append在列表末尾添加一个元素\n",
        "#append一次只能添加一个元素\n",
        "#append会直接修改原列表，而不是返回一个新的列表\n",
        "#支持添加任意类型的元素，包括数字，字符串，列表，字典\n",
        "# 时间复杂度：O(1)。 原因：列表在 Python 中是动态数组，append() 操作在大多数情况下是常数时间复杂度。只有在列表需要扩容时，才会触发一次 O(n) 的操作（将原有元素复制到新的内存空间）。\n",
        "\n",
        "ls.append('apple')\n",
        "ls.append('banana')\n",
        "ls.append(['pear','watermelon'])\n",
        "\n",
        "\n",
        "#extend\n",
        "#作用：将可迭代对象（如列表、元组、字符串等）中的每个元素逐个添加到列表末尾。\n",
        "#返回值：None（直接修改原列表，不返回新列表）。\n",
        "#时间复杂度：O(k)，其中 k 是可迭代对象的长度。原因：extend() 需要遍历可迭代对象中的每个元素，并将其添加到列表末尾。\n",
        "#extend() 是 Python 中用于扩展列表的常用方法，适合在需要合并多个可迭代对象时使用。通过合理使用 extend()，可以高效地管理列表内容\n",
        "#只可添加可迭代类型，不可迭代的不可添加\n",
        "\n",
        "ls1 = []\n",
        "ls1.extend(['apple'])\n",
        "ls1.extend(['pear', 'watermelon'])\n",
        "ls1.extend('1')\n",
        "\n",
        "#insert\n",
        "#语法：list.insert(index, element)\n",
        "# index：要插入元素的位置（索引）。\n",
        "# element：要插入的元素。\n",
        "# 作用：在指定索引位置插入元素，原位置及之后的元素会向后移动。\n",
        "# 返回值：None（直接修改原列表，不返回新列表）。\n",
        "# 时间复杂度：O(n)，其中 n 是列表的长度。原因：插入元素后，需要将插入位置之后的元素全部向后移动一位。\n",
        "\n",
        "# insert() 的特点\n",
        "# 原地修改：insert() 会直接修改原列表，而不是返回一个新列表。\n",
        "# 支持任意类型：可以插入任意类型的元素，包括数字、字符串、列表、字典等。\n",
        "# 索引超出范围：如果索引为正数且超出列表长度，元素会被插入到列表末尾。\n",
        "# 如果索引为负数，表示从列表末尾开始计算位置。\n",
        "\n",
        "#注意事项，\n",
        "# 由于时间复杂度为O（n），在列表开头或中间频繁插入元素会导致性能下降，如果需要频繁在开头插入元素，可以考虑用collections.deque.\n",
        "\n",
        "ls1.insert(2,\"orange\")\n",
        "ls1.insert(-1,\"pencil\")\n",
        "ls1.insert(100, 22)\n",
        "\n",
        "ls1.remove(\"apple\")\n",
        "ls1.reverse()\n",
        "# ls1.sort()\n",
        "\n",
        "ls1"
      ],
      "metadata": {
        "id": "0xF5fv0l2j5_",
        "colab": {
          "base_uri": "https://localhost:8080/"
        },
        "outputId": "131781cc-423a-45df-af30-f968da029b83"
      },
      "execution_count": 21,
      "outputs": [
        {
          "output_type": "execute_result",
          "data": {
            "text/plain": [
              "[22, '1', 'pencil', 'watermelon', 'orange', 'pear']"
            ]
          },
          "metadata": {},
          "execution_count": 21
        }
      ]
    },
    {
      "cell_type": "code",
      "source": [],
      "metadata": {
        "colab": {
          "base_uri": "https://localhost:8080/",
          "height": 211
        },
        "id": "97qVvm3sGhN9",
        "outputId": "5a0d5574-3074-40fa-cc8f-b3a57db54e22"
      },
      "execution_count": 20,
      "outputs": [
        {
          "output_type": "error",
          "ename": "ValueError",
          "evalue": "list.remove(x): x not in list",
          "traceback": [
            "\u001b[0;31m---------------------------------------------------------------------------\u001b[0m",
            "\u001b[0;31mValueError\u001b[0m                                Traceback (most recent call last)",
            "\u001b[0;32m<ipython-input-20-a4ac2681e3f2>\u001b[0m in \u001b[0;36m<cell line: 0>\u001b[0;34m()\u001b[0m\n\u001b[1;32m     20\u001b[0m \u001b[0mls1\u001b[0m\u001b[0;34m.\u001b[0m\u001b[0minsert\u001b[0m\u001b[0;34m(\u001b[0m\u001b[0;36m100\u001b[0m\u001b[0;34m,\u001b[0m \u001b[0;36m22\u001b[0m\u001b[0;34m)\u001b[0m\u001b[0;34m\u001b[0m\u001b[0;34m\u001b[0m\u001b[0m\n\u001b[1;32m     21\u001b[0m \u001b[0;34m\u001b[0m\u001b[0m\n\u001b[0;32m---> 22\u001b[0;31m \u001b[0mls1\u001b[0m\u001b[0;34m.\u001b[0m\u001b[0mremove\u001b[0m\u001b[0;34m(\u001b[0m\u001b[0;34m\"apple\"\u001b[0m\u001b[0;34m)\u001b[0m\u001b[0;34m\u001b[0m\u001b[0;34m\u001b[0m\u001b[0m\n\u001b[0m\u001b[1;32m     23\u001b[0m \u001b[0mls1\u001b[0m\u001b[0;34m.\u001b[0m\u001b[0mreverse\u001b[0m\u001b[0;34m(\u001b[0m\u001b[0;34m)\u001b[0m\u001b[0;34m\u001b[0m\u001b[0;34m\u001b[0m\u001b[0m\n\u001b[1;32m     24\u001b[0m \u001b[0;31m# ls1.sort()\u001b[0m\u001b[0;34m\u001b[0m\u001b[0;34m\u001b[0m\u001b[0m\n",
            "\u001b[0;31mValueError\u001b[0m: list.remove(x): x not in list"
          ]
        }
      ]
    },
    {
      "cell_type": "code",
      "source": [],
      "metadata": {
        "id": "BTOiiEs7RYkM"
      },
      "execution_count": null,
      "outputs": []
    },
    {
      "cell_type": "code",
      "source": [
        "#collections.deque\n",
        "# 是 Python 标准库中 collections 模块提供的一个双端队列（double-ended queue）数据结构。与列表（list）相比，deque 在两端（开头和末尾）的插入和删除操作具有更高的效率，适合需要频繁在两端操作数据的场景。\n",
        "\n",
        "#  deque 的特点\n",
        "# 高效的两端操作：\n",
        "# 在开头和末尾插入或删除元素的时间复杂度为 O(1)。\n",
        "# 列表（list）在开头插入或删除元素的时间复杂度为 O(n)。\n",
        "# 固定大小：\n",
        "# 可以设置 deque 的最大长度，当元素数量超过最大长度时，最早添加的元素会被自动移除。\n",
        "# 线程安全：\n",
        "# deque 支持线程安全的操作，适合在多线程环境中使用。\n",
        "\n",
        "# 5. deque 的性能优势\n",
        "# 在开头插入或删除元素：\n",
        "# deque：O(1)\n",
        "# 列表（list）：O(n)\n",
        "# 在末尾插入或删除元素：\n",
        "# deque：O(1)\n",
        "# 列表（list）：O(1)\n",
        "\n",
        "# deque 的适用场景\n",
        "# 实现队列和栈：\n",
        "# deque 可以高效地实现队列（FIFO）和栈（LIFO）。\n",
        "# 滑动窗口算法：\n",
        "# 在需要维护一个固定大小的窗口时，deque 非常适用。\n",
        "# 历史记录：\n",
        "# 使用 maxlen 可以方便地实现历史记录功能。\n",
        "\n",
        "from collections import deque\n",
        "d = deque([1,2,3])\n",
        "d.append(4)\n",
        "d.appendleft(0)\n",
        "d.pop()\n",
        "d.popleft()\n",
        "d.extend([4,5,6])\n",
        "#在开头扩展多个元素时，顺序会反转\n",
        "d.extendleft([0,-1])\n",
        "\n",
        "# 设置deque的最大长度,当元素数量超过最大长度是，添加端另一端元素会被自动移除。\n",
        "d = deque([1,2,3],maxlen=5)\n",
        "d.append(5)\n",
        "d.append(4)\n",
        "d.appendleft(6)\n",
        "print(d)\n",
        "\n",
        "# 将deque向右旋转n步\n",
        "d.rotate(2)\n",
        "\n",
        "\n",
        "d\n",
        "\n",
        "\n"
      ],
      "metadata": {
        "colab": {
          "base_uri": "https://localhost:8080/"
        },
        "id": "OJdgy1jiIuJM",
        "outputId": "41eb0c7d-1038-4f50-b702-c41f3ba32d29"
      },
      "execution_count": 22,
      "outputs": [
        {
          "output_type": "stream",
          "name": "stdout",
          "text": [
            "deque([6, 1, 2, 3, 5], maxlen=5)\n"
          ]
        },
        {
          "output_type": "execute_result",
          "data": {
            "text/plain": [
              "deque([3, 5, 6, 1, 2])"
            ]
          },
          "metadata": {},
          "execution_count": 22
        }
      ]
    }
  ]
}